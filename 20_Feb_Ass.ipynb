{
 "cells": [
  {
   "cell_type": "code",
   "execution_count": 1,
   "id": "e396e2bf-6959-4fb3-9f1a-3b43b6ed76e1",
   "metadata": {},
   "outputs": [],
   "source": [
    "# Qus 1"
   ]
  },
  {
   "cell_type": "raw",
   "id": "8f3434a8-cc6e-4fbd-a5c1-7ec2abf64537",
   "metadata": {},
   "source": [
    "1. GET Method:\n",
    "    The GET method is used to request data from a specified resource.\n",
    "    It append the data being sent as a query string to the URL of the request.\n",
    "    Parameters are visible in the URL, making them easy to bookmark and share.\n",
    "    It is suitable for requesting data or fetching resources , but should not be used for sensitive information like passwords because parameters are visible in the URL and can be cached.\n",
    "    GET requests can be cached by browsers and intermediaries (like proxies), which can improve performance for subsequent requests.\n",
    "    \n",
    "2. POST Method:\n",
    "    The POST method is used to send data to a server to create or update a resource.\n",
    "    It sends data in the body of the HTTP request, not in the URL . therefore, parameters are not visible in the URL.\n",
    "    POST requests are not cached by browsers and intermediaries , so they are suitable for sending sensitive data like passwords and other from submissions.\n",
    "    POST requests are commonly used for submitting HTML form data , uploading files, and making data modification on the server. "
   ]
  },
  {
   "cell_type": "code",
   "execution_count": 2,
   "id": "6b368e05-f2cd-4b9e-b714-2b0f5975234f",
   "metadata": {},
   "outputs": [],
   "source": [
    "# Qus 2"
   ]
  },
  {
   "cell_type": "raw",
   "id": "067a568f-279d-4244-8528-ba6222b34d86",
   "metadata": {},
   "source": [
    "In Flask , the request object is used to access incoming request data submitted by a client when interacting with a Flask web application. the request object provides a way to inspect and manipulate the data is sent to the server from the client during an HTTP request.\n",
    "1. Accessing Request Data:\n",
    "    the \"request\" object allows you to access various parts of the incoming HTTP request, such as form data , URL parameterss, headers, cookies, and uploaded files.\n",
    "    \n",
    "2. Handling From Submissions:\n",
    "When a user submits an HTML from via a POST request, the form data can be accessed through the \"request.form\" attribute in Flask .\n",
    "\n",
    "3. JSON Data:\n",
    "If the client sends JSON data in the request body (e.g., via an AJAX request), Flask allows you to access this data through the request.json attribute. This is common when building RESTful APIs with Flask.\n",
    "\n",
    "4. File Uploads:\n",
    "Uploading files from a client to a Flask server is facilitated through the request.files attribute, which provides access to files uploaded as part of a form submission.\n",
    "\n",
    "5. HTTP Headers and Cookies:\n",
    "The request.headers attribute allows you to access the HTTP headers sent by the client, such as User-Agent, Content-Type, and more. Additionally, cookies sent by the client can be accessed using request.cookies.\n",
    "\n",
    "6. HTTP Methods:\n",
    "The request.method attribute contains the HTTP method used in the request (e.g., GET, POST, PUT, DELETE), enabling conditional logic based on the type of request received.\n",
    "\n",
    "7. Request Context:\n",
    "The request object in Flask is part of the request context, which is a way to temporarily store information related to the current request being processed by the application. This context makes request-related data accessible throughout the handling of a request without explicitly passing it around."
   ]
  },
  {
   "cell_type": "code",
   "execution_count": 1,
   "id": "f07cf6e0-10ef-4a18-b934-4125bbf84aa2",
   "metadata": {},
   "outputs": [],
   "source": [
    "# Qus 3"
   ]
  },
  {
   "cell_type": "raw",
   "id": "12f61ede-7f22-40a0-a79a-0e40e11c4b06",
   "metadata": {},
   "source": [
    "In Flask, the redirect() function is used to redirect the client's web browser to a different URL. It is commonly used when you want to send the user to a different page or route after performing a certain action or when a specific condition is met.\n",
    "\n",
    "Here are some common use cases for redirect() in Flask:\n",
    "\n",
    "After form submission:\n",
    "    After processing a form submission, you might want to redirect the user to a different page, such as a thank you page or a page displaying the submitted data.\n",
    "\n",
    "After authentication: \n",
    "    After successfully logging in or authenticating a user, you can redirect them to a dashboard or home page.\n",
    "\n",
    "Handling unauthorized access:\n",
    "    If a user tries to access a protected resource without proper authentication, you can redirect them to a login page.\n",
    "\n",
    "Clean URL structure: \n",
    "    Redirects can help maintain a clean URL structure by redirecting users from old or deprecated URLs to new ones."
   ]
  },
  {
   "cell_type": "code",
   "execution_count": 3,
   "id": "41bac63e-6ad2-4102-9458-fb028933ad5a",
   "metadata": {},
   "outputs": [],
   "source": [
    "# Qus 4"
   ]
  },
  {
   "cell_type": "raw",
   "id": "075f8d96-5724-4883-9b0f-41b032349b30",
   "metadata": {},
   "source": [
    "In Flask, templates are files containing HTML code with placeholders for dynamic content. They allow you to separate the presentation layer from the application logic, making it easier to manage and maintain your code. Templates enable you to create dynamic web pages by inserting data dynamically into HTML documents.\n",
    "\n",
    "The render_template() function in Flask is used to render a template file and pass data to it. It takes the name of the template file as an argument and optionally accepts additional keyword arguments representing data that you want to pass to the template.\n",
    "\n",
    "render_template() is used in Flask:\n",
    "Dynamic content:\n",
    "    Templates allow you to include dynamic content in your web pages, such as data retrieved from a database, user input, or information calculated within your Flask application.\n",
    "\n",
    "Code organization:\n",
    "    By separating the presentation layer (HTML templates) from the application logic (Python code), you can maintain a cleaner and more organized codebase, making it easier to understand and debug.\n",
    "\n",
    "Code reuse:\n",
    "    Templates can be reused across multiple routes or views within your Flask application. This promotes code reuse and avoids duplication of HTML code.\n",
    "\n",
    "Flexibility: \n",
    "    Templates support the use of control structures (e.g., loops, conditionals) and template inheritance, allowing you to create flexible and maintainable web applications with consistent layouts and designs."
   ]
  },
  {
   "cell_type": "code",
   "execution_count": 4,
   "id": "a9f047f8-3a99-465e-bef6-3ccde6cb0c86",
   "metadata": {},
   "outputs": [],
   "source": [
    "# Qus 5"
   ]
  },
  {
   "cell_type": "code",
   "execution_count": 7,
   "id": "d5d48ba3-e512-4ac7-b4e5-376976b3170d",
   "metadata": {},
   "outputs": [
    {
     "name": "stdout",
     "output_type": "stream",
     "text": [
      " * Serving Flask app '__main__'\n",
      " * Debug mode: on\n"
     ]
    },
    {
     "name": "stderr",
     "output_type": "stream",
     "text": [
      "WARNING: This is a development server. Do not use it in a production deployment. Use a production WSGI server instead.\n",
      " * Running on http://127.0.0.1:5000\n",
      "Press CTRL+C to quit\n",
      " * Restarting with stat\n",
      "Traceback (most recent call last):\n",
      "  File \"/opt/conda/lib/python3.10/runpy.py\", line 196, in _run_module_as_main\n",
      "    return _run_code(code, main_globals, None,\n",
      "  File \"/opt/conda/lib/python3.10/runpy.py\", line 86, in _run_code\n",
      "    exec(code, run_globals)\n",
      "  File \"/opt/conda/lib/python3.10/site-packages/ipykernel_launcher.py\", line 17, in <module>\n",
      "    app.launch_new_instance()\n",
      "  File \"/opt/conda/lib/python3.10/site-packages/traitlets/config/application.py\", line 991, in launch_instance\n",
      "    app.initialize(argv)\n",
      "  File \"/opt/conda/lib/python3.10/site-packages/traitlets/config/application.py\", line 113, in inner\n",
      "    return method(app, *args, **kwargs)\n",
      "  File \"/opt/conda/lib/python3.10/site-packages/ipykernel/kernelapp.py\", line 665, in initialize\n",
      "    self.init_sockets()\n",
      "  File \"/opt/conda/lib/python3.10/site-packages/ipykernel/kernelapp.py\", line 309, in init_sockets\n",
      "    self.shell_port = self._bind_socket(self.shell_socket, self.shell_port)\n",
      "  File \"/opt/conda/lib/python3.10/site-packages/ipykernel/kernelapp.py\", line 246, in _bind_socket\n",
      "    return self._try_bind_socket(s, port)\n",
      "  File \"/opt/conda/lib/python3.10/site-packages/ipykernel/kernelapp.py\", line 222, in _try_bind_socket\n",
      "    s.bind(\"tcp://%s:%i\" % (self.ip, port))\n",
      "  File \"/opt/conda/lib/python3.10/site-packages/zmq/sugar/socket.py\", line 232, in bind\n",
      "    super().bind(addr)\n",
      "  File \"zmq/backend/cython/socket.pyx\", line 568, in zmq.backend.cython.socket.Socket.bind\n",
      "  File \"zmq/backend/cython/checkrc.pxd\", line 28, in zmq.backend.cython.checkrc._check_rc\n",
      "zmq.error.ZMQError: Address already in use\n"
     ]
    },
    {
     "ename": "SystemExit",
     "evalue": "1",
     "output_type": "error",
     "traceback": [
      "An exception has occurred, use %tb to see the full traceback.\n",
      "\u001b[0;31mSystemExit\u001b[0m\u001b[0;31m:\u001b[0m 1\n"
     ]
    },
    {
     "name": "stderr",
     "output_type": "stream",
     "text": [
      "/opt/conda/lib/python3.10/site-packages/IPython/core/interactiveshell.py:3441: UserWarning: To exit: use 'exit', 'quit', or Ctrl-D.\n",
      "  warn(\"To exit: use 'exit', 'quit', or Ctrl-D.\", stacklevel=1)\n"
     ]
    }
   ],
   "source": [
    "from flask import Flask, jsonify\n",
    "\n",
    "app = Flask(__name__)\n",
    "\n",
    "# Route to return a simple JSON response\n",
    "@app.route('/api/simple', methods=['GET'])\n",
    "def get_simple_data():\n",
    "    data = {\n",
    "        'message': 'This is a simple JSON response',\n",
    "        'status': 'success'\n",
    "    }\n",
    "    return jsonify(data)\n",
    "\n",
    "# Route to return a more complex JSON response\n",
    "@app.route('/api/complex', methods=['GET'])\n",
    "def get_complex_data():\n",
    "    data = {\n",
    "        'message': 'This is a more complex JSON response',\n",
    "        'details': {\n",
    "            'name': 'John Doe',\n",
    "            'age': 30,\n",
    "            'email': 'john.doe@example.com'\n",
    "        }\n",
    "    }\n",
    "    return jsonify(data)\n",
    "\n",
    "if __name__ == '__main__':\n",
    "    app.run(debug=True)\n"
   ]
  },
  {
   "cell_type": "code",
   "execution_count": 6,
   "id": "8bcf6198-9f2c-491f-aa45-8370e57f5f8a",
   "metadata": {},
   "outputs": [
    {
     "name": "stdout",
     "output_type": "stream",
     "text": [
      "Collecting flask\n",
      "  Downloading flask-3.0.3-py3-none-any.whl (101 kB)\n",
      "\u001b[2K     \u001b[90m━━━━━━━━━━━━━━━━━━━━━━━━━━━━━━━━━━━━━━━\u001b[0m \u001b[32m101.7/101.7 kB\u001b[0m \u001b[31m3.9 MB/s\u001b[0m eta \u001b[36m0:00:00\u001b[0m\n",
      "\u001b[?25hRequirement already satisfied: click>=8.1.3 in /opt/conda/lib/python3.10/site-packages (from flask) (8.1.3)\n",
      "Collecting blinker>=1.6.2\n",
      "  Downloading blinker-1.7.0-py3-none-any.whl (13 kB)\n",
      "Collecting Werkzeug>=3.0.0\n",
      "  Downloading werkzeug-3.0.2-py3-none-any.whl (226 kB)\n",
      "\u001b[2K     \u001b[90m━━━━━━━━━━━━━━━━━━━━━━━━━━━━━━━━━━━━━━\u001b[0m \u001b[32m226.8/226.8 kB\u001b[0m \u001b[31m28.7 MB/s\u001b[0m eta \u001b[36m0:00:00\u001b[0m\n",
      "\u001b[?25hCollecting itsdangerous>=2.1.2\n",
      "  Downloading itsdangerous-2.2.0-py3-none-any.whl (16 kB)\n",
      "Requirement already satisfied: Jinja2>=3.1.2 in /opt/conda/lib/python3.10/site-packages (from flask) (3.1.2)\n",
      "Requirement already satisfied: MarkupSafe>=2.0 in /opt/conda/lib/python3.10/site-packages (from Jinja2>=3.1.2->flask) (2.1.1)\n",
      "Installing collected packages: Werkzeug, itsdangerous, blinker, flask\n",
      "  Attempting uninstall: blinker\n",
      "    Found existing installation: blinker 1.5\n",
      "    Uninstalling blinker-1.5:\n",
      "      Successfully uninstalled blinker-1.5\n",
      "Successfully installed Werkzeug-3.0.2 blinker-1.7.0 flask-3.0.3 itsdangerous-2.2.0\n",
      "Note: you may need to restart the kernel to use updated packages.\n"
     ]
    }
   ],
   "source": [
    "pip install flask"
   ]
  },
  {
   "cell_type": "code",
   "execution_count": null,
   "id": "f9c1fffa-e795-460b-8562-7b3cd863e2ce",
   "metadata": {},
   "outputs": [],
   "source": []
  }
 ],
 "metadata": {
  "kernelspec": {
   "display_name": "Python 3 (ipykernel)",
   "language": "python",
   "name": "python3"
  },
  "language_info": {
   "codemirror_mode": {
    "name": "ipython",
    "version": 3
   },
   "file_extension": ".py",
   "mimetype": "text/x-python",
   "name": "python",
   "nbconvert_exporter": "python",
   "pygments_lexer": "ipython3",
   "version": "3.10.8"
  }
 },
 "nbformat": 4,
 "nbformat_minor": 5
}
